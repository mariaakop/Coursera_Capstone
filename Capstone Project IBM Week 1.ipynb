{
 "cells": [
  {
   "cell_type": "markdown",
   "metadata": {},
   "source": [
    "# Capstone Project - The Battle of the Neighborhoods (Week 1)\n",
    "###  Applied Data Science Capstone Project by IBM (Coursera)"
   ]
  },
  {
   "cell_type": "markdown",
   "metadata": {},
   "source": [
    "## Table of contents\n",
    "* [Introduction to the business problem](#intro)\n",
    "* [Data and steps to tackle the business problem](#data)"
   ]
  },
  {
   "cell_type": "markdown",
   "metadata": {},
   "source": [
    "## 1) Introduction to the business problem <a name=\"intro\"></a>"
   ]
  },
  {
   "cell_type": "markdown",
   "metadata": {},
   "source": [
    "Moscow is considered to be one of the biggest economic, political, and cultural centers worldwide. The official population of the state is 12 678 079 people combining vast variety of ethnicities and with the population density 4949,47 people/km²(https://www.gks.ru/storage/mediabank/Popul2020.xls). Moscow is also the major economic center of the Russian Federation. With the high density of population and non-declining number of incoming labour from overall Russia as well as other countries appeals new businesses in both traditional and innovative sectors. We consider municipal districts of Moscow (125) throughout the project.\n",
    "\n",
    "We majorly address problem to the local small or middle-size businesses that are concentrated on 'venue'-type businesses and where questions as following can arise:\n",
    "* Based on average income of the area, which city do we choose?\n",
    "* What is the situation in borrows and whom can we target?\n",
    "* What venues types are in the area and which ones are most popular? \n",
    "* Which areas are not oversaturated with similar type of businesses?\n",
    "  ... and so many more. Therefore, this project is aimed to help answer questions that certainly arise when there exists a consideration of establishing a new venue to enrich strategical aims based on data analysis and analytics."
   ]
  },
  {
   "cell_type": "markdown",
   "metadata": {},
   "source": [
    "## 2) Data to tackle the business problem <a name=\"data\"></a>"
   ]
  },
  {
   "cell_type": "markdown",
   "metadata": {},
   "source": [
    "In this project we use:\n",
    "* Forsquare API to get venues of a chosen citiy\n",
    "* As up-to-date granular data for income distribution in Moscow was not found by me, I decided to use average house renting prices per m² from Domofond.ru within municipal districts (boroughs)\n",
    "* I also use Wikipedia page on Moscow population data by Districts (\"https://ru.wikipedia.org/wiki/%D0%A1%D0%BF%D0%B8%D1%81%D0%BE%D0%BA_%D1%80%D0%B0%D0%B9%D0%BE%D0%BD%D0%BE%D0%B2_%D0%B8_%D0%BF%D0%BE%D1%81%D0%B5%D0%BB%D0%B5%D0%BD%D0%B8%D0%B9_%D0%9C%D0%BE%D1%81%D0%BA%D0%B2%D1%8B\")\n",
    "* And at the end, when I choose an example of the venue to analyse the setlement I use sorted CIAN data (https://www.cian.ru)\n",
    "\n",
    "Idea is to get overall data on renting and analyse it as an alternative to the income data. Then we want to see most lucrative city and pick it. For the sake of better undertanding we want check how many districts are there in each borough. We further proceed with the highest average renting price per borough. As soon as this is done we have a look at population density to get a better undertanding of how many customers we can surve. Then we get vanue data and first look at the overall picture, what is present among venues and popular. At the end, we choose one particular venue and add pricing of the rent for the business purposes and analyse which location would be the optimal."
   ]
  }
 ],
 "metadata": {
  "kernelspec": {
   "display_name": "Python 3",
   "language": "python",
   "name": "python3"
  },
  "language_info": {
   "codemirror_mode": {
    "name": "ipython",
    "version": 3
   },
   "file_extension": ".py",
   "mimetype": "text/x-python",
   "name": "python",
   "nbconvert_exporter": "python",
   "pygments_lexer": "ipython3",
   "version": "3.7.6"
  }
 },
 "nbformat": 4,
 "nbformat_minor": 4
}
